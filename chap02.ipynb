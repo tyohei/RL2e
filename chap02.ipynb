{
 "cells": [
  {
   "cell_type": "markdown",
   "metadata": {},
   "source": [
    "# Chapter 2"
   ]
  },
  {
   "cell_type": "markdown",
   "metadata": {},
   "source": [
    "## 2.1 A $k$-armed Bandit Problem"
   ]
  },
  {
   "cell_type": "code",
   "execution_count": 4,
   "metadata": {},
   "outputs": [],
   "source": [
    "import numpy as np\n",
    "import matplotlib.pyplot as plt\n",
    "import typing\n",
    "%matplotlib inline"
   ]
  },
  {
   "cell_type": "markdown",
   "metadata": {},
   "source": [
    "- Expected reward a.k.a. *value* of the action $a$, $q_*(a)$\n",
    "- Time step $t$\n",
    "- Action $A_t$\n",
    "- Reward $R_t$\n",
    "- Estimated value $Q_t(a)$\n",
    "\n",
    "$$\n",
    "\\DeclareMathOperator*{\\argmax}{arg\\,max}\n",
    "q_*(a) = \\mathbb{E}[R_t|A_t=a]\n",
    "$$"
   ]
  },
  {
   "cell_type": "markdown",
   "metadata": {},
   "source": [
    "## 2.2 Action-value Methods"
   ]
  },
  {
   "cell_type": "markdown",
   "metadata": {},
   "source": [
    "$$\n",
    "Q_t(a) = \\frac{\\textrm{sum of rewards when $a$ taken prior to $t$}}{\\textrm{number of times $a$ taken prior to $t$}}\n",
    "=\n",
    "\\frac{\\sum_{i=1}^{t-1}R_i \\cdot \\mathbb{I}_{A_i = a}}{\\sum_{i=1}^{t-1}\\mathbb{I}_{A_i = a}}\n",
    "$$\n",
    "\n",
    "Due to the law of large numbers, $Q_t(a) \\to q_*(a) \\; (t \\to \\infty)$."
   ]
  },
  {
   "cell_type": "code",
   "execution_count": 25,
   "metadata": {},
   "outputs": [],
   "source": [
    "def estimate_q(a: int, rewards: typing.Sequence[float], actions: typing.Sequence[int]):\n",
    "    \"\"\"Computes Q_t(A) using sample-average method.\n",
    "    \n",
    "    NOTE:\n",
    "        t == len(rewards)\n",
    "        t == len(actions)\n",
    "    \"\"\"\n",
    "    assert len(rewards) == len(actions)\n",
    "    q = 0\n",
    "    n = 0\n",
    "    for t in range(len(actions)):\n",
    "        if a == actions[t]:\n",
    "            q += rewards[t]\n",
    "            n += 1\n",
    "    if n == 0:\n",
    "        return 0\n",
    "    else:\n",
    "        return q / n"
   ]
  },
  {
   "cell_type": "markdown",
   "metadata": {},
   "source": [
    "$$\n",
    "A_t = \\argmax_a Q_t(a)\n",
    "$$"
   ]
  },
  {
   "cell_type": "code",
   "execution_count": 26,
   "metadata": {},
   "outputs": [],
   "source": [
    "def greedy_action_selection(\n",
    "        available_actions: typing.Sequence[int],\n",
    "        rewards: typing.Sequence[float],\n",
    "        actions: typing.Sequence[int]):\n",
    "    \"\"\"Greedy action selection (equation (2.2))\n",
    "    \"\"\"\n",
    "    assert len(rewards) == len(actions)\n",
    "    estimates = [estimate_q(a, rewards, actions) for a in available_actions]\n",
    "    estimates = np.asarray(estimates)\n",
    "    return np.argmax(estimates)"
   ]
  },
  {
   "cell_type": "markdown",
   "metadata": {},
   "source": [
    "$\\varepsilon$-greedy method\n",
    "\n",
    "$$\n",
    "\\begin{align}\n",
    "\\varepsilon &\\sim U(0,1)\\\\\n",
    "A_t &= \\left\\{\\begin{aligned}\n",
    "\\argmax_a Q_t(a) \\qquad &\\textrm{if} \\; \\varepsilon > 0.5 \\\\\n",
    "(\\textrm{random action}) \\qquad &\\textrm{overwise}\n",
    "\\end{aligned}\\right.\n",
    "\\end{align}\n",
    "$$"
   ]
  },
  {
   "cell_type": "code",
   "execution_count": 30,
   "metadata": {},
   "outputs": [],
   "source": [
    "def e_greedy_action_selection(\n",
    "        available_actions: typing.Sequence[int],\n",
    "        rewards: typing.Sequence[float],\n",
    "        actions: typing.Sequence[int],\n",
    "        threshold: float):\n",
    "    \"\"\"e-Greedy action selection (equation (2.2))\n",
    "    \"\"\"\n",
    "    assert len(rewards) == len(actions)\n",
    "    e = np.random.uniform()\n",
    "    if e > threshold:\n",
    "        estimates = [estimate_q(a, rewards, actions) for a in available_actions]\n",
    "        estimates = np.asarray(estimates)\n",
    "        return np.argmax(estimates)\n",
    "    else:\n",
    "        index = np.random.randint(0, len(available_actions))\n",
    "        return available_actions[index]"
   ]
  },
  {
   "cell_type": "markdown",
   "metadata": {},
   "source": [
    "## 2.3 The 10-armed Testbed"
   ]
  },
  {
   "cell_type": "code",
   "execution_count": 31,
   "metadata": {},
   "outputs": [],
   "source": [
    "class Testbed:\n",
    "    \n",
    "    def __init__(self, k=10):\n",
    "        self.k = k\n",
    "        self.q_ast = [np.random.uniform(0, 1) for _ in range(k)]\n",
    "        \n",
    "    def get_reward(self, a):\n",
    "        return self.q_ast[a] + np.random.uniform(0, 1)\n",
    "    \n",
    "    def run(self, num_steps=1000, num_runs=2000, threshold=0.1):\n",
    "        avg_actions = [0 for _ in range(num_steps)]  # avg through runs\n",
    "        avg_rewards = [0 for _ in range(num_steps)]  # avg through runs\n",
    "        for _ in range(num_runs):\n",
    "            actions = []\n",
    "            rewards = []\n",
    "            q_est = [0 for _ in range(self.k)]\n",
    "            for i in range(num_steps):\n",
    "                a = e_greedy_action_selection(list(range(self.k)), rewards, actions, threshold)\n",
    "                r = self.get_reward(a)\n",
    "                actions.append(a)\n",
    "                rewards.append(r)\n",
    "                avg_actions[i] += a / num_runs\n",
    "                avg_rewards[i] += r / num_runs\n",
    "        return avg_actions, avg_rewards"
   ]
  },
  {
   "cell_type": "code",
   "execution_count": 32,
   "metadata": {},
   "outputs": [
    {
     "ename": "KeyboardInterrupt",
     "evalue": "",
     "output_type": "error",
     "traceback": [
      "\u001b[0;31m---------------------------------------------------------------------------\u001b[0m",
      "\u001b[0;31mKeyboardInterrupt\u001b[0m                         Traceback (most recent call last)",
      "\u001b[0;32m<ipython-input-32-6063d55bab00>\u001b[0m in \u001b[0;36m<module>\u001b[0;34m\u001b[0m\n\u001b[1;32m      1\u001b[0m \u001b[0mtestbed\u001b[0m \u001b[0;34m=\u001b[0m \u001b[0mTestbed\u001b[0m\u001b[0;34m(\u001b[0m\u001b[0;34m)\u001b[0m\u001b[0;34m\u001b[0m\u001b[0;34m\u001b[0m\u001b[0m\n\u001b[0;32m----> 2\u001b[0;31m \u001b[0mavg_actions\u001b[0m\u001b[0;34m,\u001b[0m \u001b[0mavg_rewards\u001b[0m \u001b[0;34m=\u001b[0m \u001b[0mtestbed\u001b[0m\u001b[0;34m.\u001b[0m\u001b[0mrun\u001b[0m\u001b[0;34m(\u001b[0m\u001b[0;34m)\u001b[0m\u001b[0;34m\u001b[0m\u001b[0;34m\u001b[0m\u001b[0m\n\u001b[0m",
      "\u001b[0;32m<ipython-input-31-cfa1cb47f428>\u001b[0m in \u001b[0;36mrun\u001b[0;34m(self, num_steps, num_runs, threshold)\u001b[0m\n\u001b[1;32m     16\u001b[0m             \u001b[0mq_est\u001b[0m \u001b[0;34m=\u001b[0m \u001b[0;34m[\u001b[0m\u001b[0;36m0\u001b[0m \u001b[0;32mfor\u001b[0m \u001b[0m_\u001b[0m \u001b[0;32min\u001b[0m \u001b[0mrange\u001b[0m\u001b[0;34m(\u001b[0m\u001b[0mself\u001b[0m\u001b[0;34m.\u001b[0m\u001b[0mk\u001b[0m\u001b[0;34m)\u001b[0m\u001b[0;34m]\u001b[0m\u001b[0;34m\u001b[0m\u001b[0;34m\u001b[0m\u001b[0m\n\u001b[1;32m     17\u001b[0m             \u001b[0;32mfor\u001b[0m \u001b[0mi\u001b[0m \u001b[0;32min\u001b[0m \u001b[0mrange\u001b[0m\u001b[0;34m(\u001b[0m\u001b[0mnum_steps\u001b[0m\u001b[0;34m)\u001b[0m\u001b[0;34m:\u001b[0m\u001b[0;34m\u001b[0m\u001b[0;34m\u001b[0m\u001b[0m\n\u001b[0;32m---> 18\u001b[0;31m                 \u001b[0ma\u001b[0m \u001b[0;34m=\u001b[0m \u001b[0me_greedy_action_selection\u001b[0m\u001b[0;34m(\u001b[0m\u001b[0mlist\u001b[0m\u001b[0;34m(\u001b[0m\u001b[0mrange\u001b[0m\u001b[0;34m(\u001b[0m\u001b[0mself\u001b[0m\u001b[0;34m.\u001b[0m\u001b[0mk\u001b[0m\u001b[0;34m)\u001b[0m\u001b[0;34m)\u001b[0m\u001b[0;34m,\u001b[0m \u001b[0mrewards\u001b[0m\u001b[0;34m,\u001b[0m \u001b[0mactions\u001b[0m\u001b[0;34m,\u001b[0m \u001b[0mthreshold\u001b[0m\u001b[0;34m)\u001b[0m\u001b[0;34m\u001b[0m\u001b[0;34m\u001b[0m\u001b[0m\n\u001b[0m\u001b[1;32m     19\u001b[0m                 \u001b[0mr\u001b[0m \u001b[0;34m=\u001b[0m \u001b[0mself\u001b[0m\u001b[0;34m.\u001b[0m\u001b[0mget_reward\u001b[0m\u001b[0;34m(\u001b[0m\u001b[0ma\u001b[0m\u001b[0;34m)\u001b[0m\u001b[0;34m\u001b[0m\u001b[0;34m\u001b[0m\u001b[0m\n\u001b[1;32m     20\u001b[0m                 \u001b[0mactions\u001b[0m\u001b[0;34m.\u001b[0m\u001b[0mappend\u001b[0m\u001b[0;34m(\u001b[0m\u001b[0ma\u001b[0m\u001b[0;34m)\u001b[0m\u001b[0;34m\u001b[0m\u001b[0;34m\u001b[0m\u001b[0m\n",
      "\u001b[0;32m<ipython-input-30-4e1c669679db>\u001b[0m in \u001b[0;36me_greedy_action_selection\u001b[0;34m(available_actions, rewards, actions, threshold)\u001b[0m\n\u001b[1;32m      9\u001b[0m     \u001b[0me\u001b[0m \u001b[0;34m=\u001b[0m \u001b[0mnp\u001b[0m\u001b[0;34m.\u001b[0m\u001b[0mrandom\u001b[0m\u001b[0;34m.\u001b[0m\u001b[0muniform\u001b[0m\u001b[0;34m(\u001b[0m\u001b[0;34m)\u001b[0m\u001b[0;34m\u001b[0m\u001b[0;34m\u001b[0m\u001b[0m\n\u001b[1;32m     10\u001b[0m     \u001b[0;32mif\u001b[0m \u001b[0me\u001b[0m \u001b[0;34m>\u001b[0m \u001b[0mthreshold\u001b[0m\u001b[0;34m:\u001b[0m\u001b[0;34m\u001b[0m\u001b[0;34m\u001b[0m\u001b[0m\n\u001b[0;32m---> 11\u001b[0;31m         \u001b[0mestimates\u001b[0m \u001b[0;34m=\u001b[0m \u001b[0;34m[\u001b[0m\u001b[0mestimate_q\u001b[0m\u001b[0;34m(\u001b[0m\u001b[0ma\u001b[0m\u001b[0;34m,\u001b[0m \u001b[0mrewards\u001b[0m\u001b[0;34m,\u001b[0m \u001b[0mactions\u001b[0m\u001b[0;34m)\u001b[0m \u001b[0;32mfor\u001b[0m \u001b[0ma\u001b[0m \u001b[0;32min\u001b[0m \u001b[0mavailable_actions\u001b[0m\u001b[0;34m]\u001b[0m\u001b[0;34m\u001b[0m\u001b[0;34m\u001b[0m\u001b[0m\n\u001b[0m\u001b[1;32m     12\u001b[0m         \u001b[0mestimates\u001b[0m \u001b[0;34m=\u001b[0m \u001b[0mnp\u001b[0m\u001b[0;34m.\u001b[0m\u001b[0masarray\u001b[0m\u001b[0;34m(\u001b[0m\u001b[0mestimates\u001b[0m\u001b[0;34m)\u001b[0m\u001b[0;34m\u001b[0m\u001b[0;34m\u001b[0m\u001b[0m\n\u001b[1;32m     13\u001b[0m         \u001b[0;32mreturn\u001b[0m \u001b[0mnp\u001b[0m\u001b[0;34m.\u001b[0m\u001b[0margmax\u001b[0m\u001b[0;34m(\u001b[0m\u001b[0mestimates\u001b[0m\u001b[0;34m)\u001b[0m\u001b[0;34m\u001b[0m\u001b[0;34m\u001b[0m\u001b[0m\n",
      "\u001b[0;32m<ipython-input-30-4e1c669679db>\u001b[0m in \u001b[0;36m<listcomp>\u001b[0;34m(.0)\u001b[0m\n\u001b[1;32m      9\u001b[0m     \u001b[0me\u001b[0m \u001b[0;34m=\u001b[0m \u001b[0mnp\u001b[0m\u001b[0;34m.\u001b[0m\u001b[0mrandom\u001b[0m\u001b[0;34m.\u001b[0m\u001b[0muniform\u001b[0m\u001b[0;34m(\u001b[0m\u001b[0;34m)\u001b[0m\u001b[0;34m\u001b[0m\u001b[0;34m\u001b[0m\u001b[0m\n\u001b[1;32m     10\u001b[0m     \u001b[0;32mif\u001b[0m \u001b[0me\u001b[0m \u001b[0;34m>\u001b[0m \u001b[0mthreshold\u001b[0m\u001b[0;34m:\u001b[0m\u001b[0;34m\u001b[0m\u001b[0;34m\u001b[0m\u001b[0m\n\u001b[0;32m---> 11\u001b[0;31m         \u001b[0mestimates\u001b[0m \u001b[0;34m=\u001b[0m \u001b[0;34m[\u001b[0m\u001b[0mestimate_q\u001b[0m\u001b[0;34m(\u001b[0m\u001b[0ma\u001b[0m\u001b[0;34m,\u001b[0m \u001b[0mrewards\u001b[0m\u001b[0;34m,\u001b[0m \u001b[0mactions\u001b[0m\u001b[0;34m)\u001b[0m \u001b[0;32mfor\u001b[0m \u001b[0ma\u001b[0m \u001b[0;32min\u001b[0m \u001b[0mavailable_actions\u001b[0m\u001b[0;34m]\u001b[0m\u001b[0;34m\u001b[0m\u001b[0;34m\u001b[0m\u001b[0m\n\u001b[0m\u001b[1;32m     12\u001b[0m         \u001b[0mestimates\u001b[0m \u001b[0;34m=\u001b[0m \u001b[0mnp\u001b[0m\u001b[0;34m.\u001b[0m\u001b[0masarray\u001b[0m\u001b[0;34m(\u001b[0m\u001b[0mestimates\u001b[0m\u001b[0;34m)\u001b[0m\u001b[0;34m\u001b[0m\u001b[0;34m\u001b[0m\u001b[0m\n\u001b[1;32m     13\u001b[0m         \u001b[0;32mreturn\u001b[0m \u001b[0mnp\u001b[0m\u001b[0;34m.\u001b[0m\u001b[0margmax\u001b[0m\u001b[0;34m(\u001b[0m\u001b[0mestimates\u001b[0m\u001b[0;34m)\u001b[0m\u001b[0;34m\u001b[0m\u001b[0;34m\u001b[0m\u001b[0m\n",
      "\u001b[0;32m<ipython-input-25-a3812e757065>\u001b[0m in \u001b[0;36mestimate_q\u001b[0;34m(a, rewards, actions)\u001b[0m\n\u001b[1;32m     10\u001b[0m     \u001b[0mn\u001b[0m \u001b[0;34m=\u001b[0m \u001b[0;36m0\u001b[0m\u001b[0;34m\u001b[0m\u001b[0;34m\u001b[0m\u001b[0m\n\u001b[1;32m     11\u001b[0m     \u001b[0;32mfor\u001b[0m \u001b[0mt\u001b[0m \u001b[0;32min\u001b[0m \u001b[0mrange\u001b[0m\u001b[0;34m(\u001b[0m\u001b[0mlen\u001b[0m\u001b[0;34m(\u001b[0m\u001b[0mactions\u001b[0m\u001b[0;34m)\u001b[0m\u001b[0;34m)\u001b[0m\u001b[0;34m:\u001b[0m\u001b[0;34m\u001b[0m\u001b[0;34m\u001b[0m\u001b[0m\n\u001b[0;32m---> 12\u001b[0;31m         \u001b[0;32mif\u001b[0m \u001b[0ma\u001b[0m \u001b[0;34m==\u001b[0m \u001b[0mactions\u001b[0m\u001b[0;34m[\u001b[0m\u001b[0mt\u001b[0m\u001b[0;34m]\u001b[0m\u001b[0;34m:\u001b[0m\u001b[0;34m\u001b[0m\u001b[0;34m\u001b[0m\u001b[0m\n\u001b[0m\u001b[1;32m     13\u001b[0m             \u001b[0mq\u001b[0m \u001b[0;34m+=\u001b[0m \u001b[0mrewards\u001b[0m\u001b[0;34m[\u001b[0m\u001b[0mt\u001b[0m\u001b[0;34m]\u001b[0m\u001b[0;34m\u001b[0m\u001b[0;34m\u001b[0m\u001b[0m\n\u001b[1;32m     14\u001b[0m             \u001b[0mn\u001b[0m \u001b[0;34m+=\u001b[0m \u001b[0;36m1\u001b[0m\u001b[0;34m\u001b[0m\u001b[0;34m\u001b[0m\u001b[0m\n",
      "\u001b[0;31mKeyboardInterrupt\u001b[0m: "
     ]
    }
   ],
   "source": [
    "testbed = Testbed()\n",
    "avg_actions1, avg_rewards1 = testbed.run(threshold=0.1)\n",
    "avg_actions2, avg_rewards2 = testbed.run(threshold=0.01)\n",
    "avg_actions3, avg_rewards3 = testbed.run(threshold=0)"
   ]
  },
  {
   "cell_type": "code",
   "execution_count": null,
   "metadata": {},
   "outputs": [],
   "source": [
    "x = list(range(1000))\n",
    "plt.plot(x, avg_actions1)\n",
    "plt.plot(x, avg_actions2)\n",
    "plt.plot(x, avg_actions3)\n",
    "plt.show()"
   ]
  },
  {
   "cell_type": "code",
   "execution_count": 3,
   "metadata": {},
   "outputs": [],
   "source": [
    "def update_estimate_average(action, actions, rewards):\n",
    "    assert len(actions) == len(rewards)\n",
    "    q = 0\n",
    "    counts = 0\n",
    "    for i in range(len(actions)):\n",
    "        if action == actions[i]:\n",
    "            q += rewards[i]\n",
    "            counts += 1\n",
    "    return q / counts"
   ]
  },
  {
   "cell_type": "code",
   "execution_count": 4,
   "metadata": {},
   "outputs": [],
   "source": [
    "def update_estimate_incremental(q, r, step_size):\n",
    "    return q + step_size * (r - q)"
   ]
  },
  {
   "cell_type": "code",
   "execution_count": 35,
   "metadata": {},
   "outputs": [],
   "source": [
    "def run_average(k, q, num_runs, num_steps, threshold):\n",
    "    avg_actions = np.zeros(num_steps)\n",
    "    avg_rewards = np.zeros(num_steps)\n",
    "    avg_estimates = np.zeros(k)\n",
    "    for _ in range(num_runs):\n",
    "        actions = [-1 for _ in range(num_steps)]\n",
    "        rewards = [-1 for _ in range(num_steps)]\n",
    "        estimates = np.zeros(k)\n",
    "        for i in range(num_steps):\n",
    "            e = np.random.uniform()\n",
    "            q = [qi + np.random.normal(0, 0.01) for qi in q]\n",
    "            action = np.argmax(estimates) if e > threshold else int(np.random.uniform(0, k))\n",
    "            reward = q[action]\n",
    "            actions[i] = action\n",
    "            rewards[i] = reward\n",
    "            estimates[action] = update_estimate_average(action, actions, rewards)\n",
    "            avg_actions[i] += action / num_runs\n",
    "            avg_rewards[i] += reward / num_runs\n",
    "        avg_estimates += estimates / num_runs\n",
    "    return avg_actions, avg_rewards, avg_estimates"
   ]
  },
  {
   "cell_type": "code",
   "execution_count": 25,
   "metadata": {},
   "outputs": [],
   "source": [
    "def run_incremental(k, q, num_runs, num_steps, threshold, step_size=lambda i: (1/(1+i))):\n",
    "    avg_actions = np.zeros(num_steps)\n",
    "    avg_rewards = np.zeros(num_steps)\n",
    "    avg_estimates = np.zeros(k)\n",
    "    for _ in range(num_runs):\n",
    "        estimates = np.zeros(k)\n",
    "        for i in range(num_steps):\n",
    "            e = np.random.uniform()\n",
    "            q = [qi + np.random.normal(0, 0.01) for qi in q]\n",
    "            action = np.argmax(estimates) if e > threshold else int(np.random.uniform(0, k))\n",
    "            reward = q[action]\n",
    "            alpha = step_size(i)\n",
    "            estimates[action] = update_estimate_incremental(estimates[action], reward, alpha)\n",
    "            avg_actions[i] += action / num_runs\n",
    "            avg_rewards[i] += reward / num_runs\n",
    "        avg_estimates += estimates / num_runs\n",
    "    return avg_actions, avg_rewards, avg_estimates"
   ]
  },
  {
   "cell_type": "code",
   "execution_count": 36,
   "metadata": {},
   "outputs": [
    {
     "data": {
      "image/png": "[encoded data removed]",
      "text/plain": [
       "<Figure size 432x288 with 1 Axes>"
      ]
     },
     "metadata": {
      "needs_background": "light"
     },
     "output_type": "display_data"
    }
   ],
   "source": [
    "num_steps = 10000\n",
    "num_runs = 20\n",
    "k = 10\n",
    "q = [0 + np.random.normal(0, 0.1) for _ in range(k)]\n",
    "\n",
    "x = list(range(len(q)))\n",
    "y = q\n",
    "plt.bar(x, y)\n",
    "plt.show()"
   ]
  },
  {
   "cell_type": "code",
   "execution_count": 37,
   "metadata": {},
   "outputs": [],
   "source": [
    "avg_actions, avg_rewards, estimates = run_average(k, q, num_runs, num_steps, threshold=0.1)"
   ]
  },
  {
   "cell_type": "code",
   "execution_count": 38,
   "metadata": {},
   "outputs": [
    {
     "data": {
      "image/png": "[encoded data removed]",
      "text/plain": [
       "<Figure size 432x288 with 1 Axes>"
      ]
     },
     "metadata": {
      "needs_background": "light"
     },
     "output_type": "display_data"
    },
    {
     "data": {
      "image/png": "[encoded data removed]",
      "text/plain": [
       "<Figure size 432x288 with 1 Axes>"
      ]
     },
     "metadata": {
      "needs_background": "light"
     },
     "output_type": "display_data"
    }
   ],
   "source": [
    "x = list(range(len(avg_rewards)))\n",
    "y = avg_rewards\n",
    "plt.plot(x, y)\n",
    "plt.ylim(bottom=0)\n",
    "plt.show()\n",
    "\n",
    "x = list(range(len(estimates)))\n",
    "y = estimates\n",
    "plt.bar(x, y)\n",
    "plt.show()"
   ]
  },
  {
   "cell_type": "code",
   "execution_count": 39,
   "metadata": {},
   "outputs": [],
   "source": [
    "avg_actions, avg_rewards, estimates = run_incremental(k, q, num_runs, num_steps, threshold=0.1)"
   ]
  },
  {
   "cell_type": "code",
   "execution_count": 40,
   "metadata": {},
   "outputs": [
    {
     "data": {
      "image/png": "[encoded data removed]",
      "text/plain": [
       "<Figure size 432x288 with 1 Axes>"
      ]
     },
     "metadata": {
      "needs_background": "light"
     },
     "output_type": "display_data"
    },
    {
     "data": {
      "image/png": "[encoded data removed]",
      "text/plain": [
       "<Figure size 432x288 with 1 Axes>"
      ]
     },
     "metadata": {
      "needs_background": "light"
     },
     "output_type": "display_data"
    }
   ],
   "source": [
    "x = list(range(len(avg_rewards)))\n",
    "y = avg_rewards\n",
    "plt.plot(x, y)\n",
    "plt.ylim(bottom=0)\n",
    "plt.show()\n",
    "\n",
    "x = list(range(len(estimates)))\n",
    "y = estimates\n",
    "plt.bar(x, y)\n",
    "plt.show()"
   ]
  },
  {
   "cell_type": "code",
   "execution_count": 41,
   "metadata": {},
   "outputs": [],
   "source": [
    "avg_actions, avg_rewards, estimates = run_incremental(k, q, num_runs, num_steps, threshold=0.1, step_size=lambda i: 0.1)"
   ]
  },
  {
   "cell_type": "code",
   "execution_count": 42,
   "metadata": {},
   "outputs": [
    {
     "data": {
      "image/png": "[encoded data removed]",
      "text/plain": [
       "<Figure size 432x288 with 1 Axes>"
      ]
     },
     "metadata": {
      "needs_background": "light"
     },
     "output_type": "display_data"
    },
    {
     "data": {
      "image/png": "[encoded data removed]",
      "text/plain": [
       "<Figure size 432x288 with 1 Axes>"
      ]
     },
     "metadata": {
      "needs_background": "light"
     },
     "output_type": "display_data"
    }
   ],
   "source": [
    "x = list(range(len(avg_rewards)))\n",
    "y = avg_rewards\n",
    "plt.plot(x, y)\n",
    "plt.ylim(bottom=0)\n",
    "plt.show()\n",
    "\n",
    "x = list(range(len(estimates)))\n",
    "y = estimates\n",
    "plt.bar(x, y)\n",
    "plt.show()"
   ]
  },
  {
   "cell_type": "code",
   "execution_count": null,
   "metadata": {},
   "outputs": [],
   "source": []
  }
 ],
 "metadata": {
  "kernelspec": {
   "display_name": "Python 3",
   "language": "python",
   "name": "python3"
  },
  "language_info": {
   "codemirror_mode": {
    "name": "ipython",
    "version": 3
   },
   "file_extension": ".py",
   "mimetype": "text/x-python",
   "name": "python",
   "nbconvert_exporter": "python",
   "pygments_lexer": "ipython3",
   "version": "3.7.4"
  }
 },
 "nbformat": 4,
 "nbformat_minor": 4
}
