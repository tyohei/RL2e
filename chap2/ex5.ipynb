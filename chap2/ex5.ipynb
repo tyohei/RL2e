{
 "cells": [
  {
   "cell_type": "markdown",
   "metadata": {},
   "source": [
    "## Exercise 2.5"
   ]
  },
  {
   "cell_type": "code",
   "execution_count": 112,
   "metadata": {},
   "outputs": [],
   "source": [
    "import numpy as np\n",
    "import matplotlib.pyplot as plt\n",
    "%matplotlib inline"
   ]
  },
  {
   "cell_type": "code",
   "execution_count": 220,
   "metadata": {},
   "outputs": [],
   "source": [
    "def update_estimate_average(action, actions, rewards):\n",
    "    assert len(actions) == len(rewards)\n",
    "    q = 0\n",
    "    counts = 0\n",
    "    for i in range(len(actions)):\n",
    "        if action == actions[i]:\n",
    "            q += rewards[i]\n",
    "            counts += 1\n",
    "    return q / counts"
   ]
  },
  {
   "cell_type": "code",
   "execution_count": 221,
   "metadata": {},
   "outputs": [],
   "source": [
    "def update_estimate_incremental(q, r, step_size):\n",
    "    return q + step_size * (r - q)"
   ]
  },
  {
   "cell_type": "code",
   "execution_count": 222,
   "metadata": {},
   "outputs": [],
   "source": [
    "def run_average(k, q, num_runs, num_steps, threshold):\n",
    "    avg_actions = np.zeros(num_steps)\n",
    "    avg_rewards = np.zeros(num_steps)\n",
    "    avg_estimates = np.zeros(k)\n",
    "    for _ in range(num_runs):\n",
    "        actions = np.zeros(num_steps, dtype=np.int32)\n",
    "        rewards = np.zeros(num_steps)\n",
    "        estimates = np.zeros(k)\n",
    "        for i in range(num_steps):\n",
    "            e = np.random.uniform()\n",
    "            q_ = [qi + np.random.normal(0, 0.01) for qi in q]\n",
    "            action = np.argmax(estimates) if e > threshold else int(np.random.uniform(0, k))\n",
    "            reward = q_[action]\n",
    "            actions[i] = action\n",
    "            rewards[i] = reward\n",
    "            estimates[action] = update_estimate_average(action, actions, rewards)\n",
    "            avg_actions[i] += action / num_runs\n",
    "            avg_rewards[i] += reward / num_runs\n",
    "        avg_estimates += estimates / num_runs\n",
    "    return avg_actions, avg_rewards, avg_estimates"
   ]
  },
  {
   "cell_type": "code",
   "execution_count": 223,
   "metadata": {},
   "outputs": [],
   "source": [
    "def run_incremental(k, q, num_runs, num_steps, threshold, step_size=lambda i: (1/(1+i))):\n",
    "    avg_actions = np.zeros(num_steps)\n",
    "    avg_rewards = np.zeros(num_steps)\n",
    "    avg_estimates = np.zeros(num_steps)\n",
    "    for _ in range(num_runs):\n",
    "        estimates = np.zeros(k)\n",
    "        for i in range(num_steps):\n",
    "            e = np.random.uniform()\n",
    "            q_ = [qi + np.random.normal(0, 0.01) for qi in q]\n",
    "            action = np.argmax(estimates) if e > threshold else int(np.random.uniform(0, k))\n",
    "            reward = q_[action]\n",
    "            alpha = step_size(i)\n",
    "            estimates[action] = update_estimate_incremental(estimates[action], reward, alpha)\n",
    "            avg_actions[i] += action / num_runs\n",
    "            avg_rewards[i] += reward / num_runs\n",
    "            avg_estimates[action] += estimates[action] / num_runs\n",
    "    return avg_actions, avg_rewards"
   ]
  },
  {
   "cell_type": "code",
   "execution_count": 224,
   "metadata": {},
   "outputs": [
    {
     "data": {
      "image/png": "[encoded data removed]",
      "text/plain": [
       "<Figure size 432x288 with 1 Axes>"
      ]
     },
     "metadata": {
      "needs_background": "light"
     },
     "output_type": "display_data"
    }
   ],
   "source": [
    "num_steps = 1000\n",
    "num_runs = 200\n",
    "k = 10\n",
    "q = [0 + np.random.normal(0, 0.1) for _ in range(k)]\n",
    "\n",
    "x = list(range(len(q)))\n",
    "y = q\n",
    "plt.bar(x, y)\n",
    "plt.show()"
   ]
  },
  {
   "cell_type": "code",
   "execution_count": 227,
   "metadata": {},
   "outputs": [],
   "source": [
    "avg_actions, avg_rewards, estimates = run_average(k, q, num_runs, num_steps, threshold=0.1)"
   ]
  },
  {
   "cell_type": "code",
   "execution_count": 228,
   "metadata": {},
   "outputs": [
    {
     "data": {
      "image/png": "[encoded data removed]",
      "text/plain": [
       "<Figure size 432x288 with 1 Axes>"
      ]
     },
     "metadata": {
      "needs_background": "light"
     },
     "output_type": "display_data"
    },
    {
     "data": {
      "image/png": "[encoded data removed]",
      "text/plain": [
       "<Figure size 432x288 with 1 Axes>"
      ]
     },
     "metadata": {
      "needs_background": "light"
     },
     "output_type": "display_data"
    }
   ],
   "source": [
    "x = list(range(len(avg_rewards)))\n",
    "y = avg_rewards\n",
    "plt.plot(x, y)\n",
    "plt.ylim(bottom=0)\n",
    "plt.show()\n",
    "\n",
    "x = list(range(len(estimates)))\n",
    "y = estimates\n",
    "plt.bar(x, y)\n",
    "plt.show()"
   ]
  },
  {
   "cell_type": "code",
   "execution_count": null,
   "metadata": {},
   "outputs": [],
   "source": []
  }
 ],
 "metadata": {
  "kernelspec": {
   "display_name": "Python 3",
   "language": "python",
   "name": "python3"
  },
  "language_info": {
   "codemirror_mode": {
    "name": "ipython",
    "version": 3
   },
   "file_extension": ".py",
   "mimetype": "text/x-python",
   "name": "python",
   "nbconvert_exporter": "python",
   "pygments_lexer": "ipython3",
   "version": "3.7.4"
  }
 },
 "nbformat": 4,
 "nbformat_minor": 4
}
